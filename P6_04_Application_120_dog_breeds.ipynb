{
  "nbformat": 4,
  "nbformat_minor": 0,
  "metadata": {
    "colab": {
      "name": "CNN_120_dog_breeds.ipynb",
      "provenance": [],
      "collapsed_sections": []
    },
    "kernelspec": {
      "name": "python383jvsc74a57bd0363b051102ab24d8879eb0962a3a7b7f4a35dc355ec233be3a7ad791853ceb64",
      "display_name": "Python 3.8.3 64-bit ('base': conda)"
    },
    "language_info": {
      "name": "python",
      "version": "3.8.3"
    }
  },
  "cells": [
    {
      "cell_type": "code",
      "metadata": {
        "id": "hqZZvu1bNlg3",
        "colab": {
          "base_uri": "https://localhost:8080/"
        },
        "outputId": "4cd4311c-c677-4adc-e21d-e11410a9a656"
      },
      "source": [
        "import tensorflow.keras as keras\n",
        "import gradio"
      ],
      "execution_count": 1,
      "outputs": []
    },
    {
      "cell_type": "code",
      "metadata": {
        "id": "_VYyoyGZNy8-"
      },
      "source": [
        "#------------------#"
      ],
      "execution_count": null,
      "outputs": []
    },
    {
      "cell_type": "code",
      "metadata": {
        "id": "wuUgV7gMN2Yf"
      },
      "source": [
        "# Load the model\n",
        "model_xception_120_dog_breeds = keras.models.load_model(\"Model/transfert_learning_xception_full_19042021.h5\")"
      ],
      "execution_count": 2,
      "outputs": []
    },
    {
      "cell_type": "code",
      "metadata": {
        "id": "JYQ1n3c2OCyH"
      },
      "source": [
        "#Load the labels\n",
        "labels_120_dog_breeds = []\n",
        "with open(\"Labels/labels_120_dog_breeds.txt\", \"r\") as f:\n",
        "  for line in f:\n",
        "    labels_120_dog_breeds.append(line.strip())"
      ],
      "execution_count": 3,
      "outputs": []
    },
    {
      "cell_type": "code",
      "execution_count": 4,
      "metadata": {},
      "outputs": [],
      "source": [
        "# Image examples\n",
        "doberman = [\"Image_examples/n02107142_14066.jpg\"]\n",
        "labrador = [\"Image_examples/n02099712_610.jpg\"]\n",
        "husky = [\"Image_examples/n02110185_11626.jpg\"]"
      ]
    },
    {
      "cell_type": "code",
      "execution_count": null,
      "metadata": {},
      "outputs": [],
      "source": [
        "#------------------#"
      ]
    },
    {
      "cell_type": "code",
      "metadata": {
        "id": "pU-Rd5DZOGta"
      },
      "source": [
        "# Function for preprocessing an image and predicting the dog breed\n",
        "def classify_image(image_):\n",
        "  img = image_.reshape((-1, 299, 299, 3))\n",
        "  img = keras.applications.xception.preprocess_input(img)\n",
        "  \n",
        "  prediction = model_xception_120_dog_breeds.predict(img).flatten()\n",
        "\n",
        "  return {labels_120_dog_breeds[i]: float(prediction[i]) for i in range(120)}"
      ],
      "execution_count": 5,
      "outputs": []
    },
    {
      "cell_type": "code",
      "metadata": {
        "id": "4Xf2ahbbOGvm"
      },
      "source": [
        "# Define the inputs, outputs and examples\n",
        "image = gradio.inputs.Image(shape=(299, 299))\n",
        "label = gradio.outputs.Label(num_top_classes=3)\n",
        "\n",
        "sample_images = [\n",
        "  doberman,\n",
        "  labrador,\n",
        "  husky\n",
        "]"
      ],
      "execution_count": 7,
      "outputs": []
    },
    {
      "cell_type": "code",
      "execution_count": null,
      "metadata": {},
      "outputs": [],
      "source": [
        "#------------------#"
      ]
    },
    {
      "cell_type": "code",
      "metadata": {
        "id": "k5ZT1Dr4OGxe",
        "colab": {
          "base_uri": "https://localhost:8080/",
          "height": 657
        },
        "outputId": "25e2fc8f-3306-4142-ee45-715d727b1c3b"
      },
      "source": [
        "# Launch the application\n",
        "gradio.Interface(\n",
        "    fn=classify_image,\n",
        "    inputs=image,\n",
        "    outputs=label,\n",
        "    title=\"CNN for 120 dog breeds classification\",\n",
        "    description=\"This CNN was built thanks to transfer learning (Xception, F. Chollet).\",\n",
        "    examples=sample_images\n",
        ").launch(share=True)"
      ],
      "execution_count": 9,
      "outputs": [
        {
          "output_type": "stream",
          "name": "stdout",
          "text": [
            "Running locally at: http://127.0.0.1:7861/\n",
            "This share link will expire in 24 hours. If you need a permanent link, visit: https://gradio.app/introducing-hosted (NEW!)\n",
            "Running on External URL: https://35489.gradio.app\n",
            "Interface loading below...\n"
          ]
        },
        {
          "output_type": "display_data",
          "data": {
            "text/plain": "<IPython.lib.display.IFrame at 0x1ced9796d30>",
            "text/html": "\n        <iframe\n            width=\"1000\"\n            height=\"500\"\n            src=\"https://35489.gradio.app\"\n            frameborder=\"0\"\n            allowfullscreen\n        ></iframe>\n        "
          },
          "metadata": {}
        },
        {
          "output_type": "execute_result",
          "data": {
            "text/plain": [
              "(<Flask 'gradio.networking'>,\n",
              " 'http://127.0.0.1:7861/',\n",
              " 'https://35489.gradio.app')"
            ]
          },
          "metadata": {},
          "execution_count": 9
        }
      ]
    },
    {
      "cell_type": "code",
      "execution_count": null,
      "metadata": {},
      "outputs": [],
      "source": []
    }
  ]
}