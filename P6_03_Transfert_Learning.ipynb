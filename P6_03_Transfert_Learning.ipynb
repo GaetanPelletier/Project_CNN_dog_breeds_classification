{
  "nbformat": 4,
  "nbformat_minor": 0,
  "metadata": {
    "colab": {
      "name": "IML_P6_Transfert_v2.ipynb",
      "provenance": [],
      "collapsed_sections": []
    },
    "kernelspec": {
      "name": "python3",
      "display_name": "Python 3"
    },
    "language_info": {
      "name": "python"
    },
    "accelerator": "GPU"
  },
  "cells": [
    {
      "cell_type": "code",
      "metadata": {
        "colab": {
          "base_uri": "https://localhost:8080/"
        },
        "id": "3qpRh1iD-46k",
        "outputId": "88601d6a-3779-43ee-9c74-cf2ca667aa4a"
      },
      "source": [
        "import pathlib\n",
        "import os\n",
        "import time\n",
        "import numpy as np\n",
        "import matplotlib.pyplot as plt\n",
        "from sklearn.preprocessing import LabelEncoder\n",
        "from sklearn.metrics import confusion_matrix\n",
        "import tensorflow as tf\n",
        "import tensorflow.keras as keras \n",
        "\n",
        "!pip install -U keras-tuner\n",
        "import kerastuner as kt"
      ],
      "execution_count": 1,
      "outputs": [
        {
          "output_type": "stream",
          "text": [
            "Collecting keras-tuner\n",
            "\u001b[?25l  Downloading https://files.pythonhosted.org/packages/20/ec/1ef246787174b1e2bb591c95f29d3c1310070cad877824f907faba3dade9/keras-tuner-1.0.2.tar.gz (62kB)\n",
            "\r\u001b[K     |█████▏                          | 10kB 17.9MB/s eta 0:00:01\r\u001b[K     |██████████▍                     | 20kB 23.9MB/s eta 0:00:01\r\u001b[K     |███████████████▋                | 30kB 28.0MB/s eta 0:00:01\r\u001b[K     |████████████████████▉           | 40kB 20.8MB/s eta 0:00:01\r\u001b[K     |██████████████████████████      | 51kB 16.9MB/s eta 0:00:01\r\u001b[K     |███████████████████████████████▎| 61kB 12.6MB/s eta 0:00:01\r\u001b[K     |████████████████████████████████| 71kB 6.5MB/s \n",
            "\u001b[?25hRequirement already satisfied, skipping upgrade: packaging in /usr/local/lib/python3.7/dist-packages (from keras-tuner) (20.9)\n",
            "Requirement already satisfied, skipping upgrade: future in /usr/local/lib/python3.7/dist-packages (from keras-tuner) (0.16.0)\n",
            "Requirement already satisfied, skipping upgrade: numpy in /usr/local/lib/python3.7/dist-packages (from keras-tuner) (1.19.5)\n",
            "Requirement already satisfied, skipping upgrade: tabulate in /usr/local/lib/python3.7/dist-packages (from keras-tuner) (0.8.9)\n",
            "Collecting terminaltables\n",
            "  Downloading https://files.pythonhosted.org/packages/9b/c4/4a21174f32f8a7e1104798c445dacdc1d4df86f2f26722767034e4de4bff/terminaltables-3.1.0.tar.gz\n",
            "Collecting colorama\n",
            "  Downloading https://files.pythonhosted.org/packages/44/98/5b86278fbbf250d239ae0ecb724f8572af1c91f4a11edf4d36a206189440/colorama-0.4.4-py2.py3-none-any.whl\n",
            "Requirement already satisfied, skipping upgrade: tqdm in /usr/local/lib/python3.7/dist-packages (from keras-tuner) (4.41.1)\n",
            "Requirement already satisfied, skipping upgrade: requests in /usr/local/lib/python3.7/dist-packages (from keras-tuner) (2.23.0)\n",
            "Requirement already satisfied, skipping upgrade: scipy in /usr/local/lib/python3.7/dist-packages (from keras-tuner) (1.4.1)\n",
            "Requirement already satisfied, skipping upgrade: scikit-learn in /usr/local/lib/python3.7/dist-packages (from keras-tuner) (0.22.2.post1)\n",
            "Requirement already satisfied, skipping upgrade: pyparsing>=2.0.2 in /usr/local/lib/python3.7/dist-packages (from packaging->keras-tuner) (2.4.7)\n",
            "Requirement already satisfied, skipping upgrade: certifi>=2017.4.17 in /usr/local/lib/python3.7/dist-packages (from requests->keras-tuner) (2020.12.5)\n",
            "Requirement already satisfied, skipping upgrade: chardet<4,>=3.0.2 in /usr/local/lib/python3.7/dist-packages (from requests->keras-tuner) (3.0.4)\n",
            "Requirement already satisfied, skipping upgrade: urllib3!=1.25.0,!=1.25.1,<1.26,>=1.21.1 in /usr/local/lib/python3.7/dist-packages (from requests->keras-tuner) (1.24.3)\n",
            "Requirement already satisfied, skipping upgrade: idna<3,>=2.5 in /usr/local/lib/python3.7/dist-packages (from requests->keras-tuner) (2.10)\n",
            "Requirement already satisfied, skipping upgrade: joblib>=0.11 in /usr/local/lib/python3.7/dist-packages (from scikit-learn->keras-tuner) (1.0.1)\n",
            "Building wheels for collected packages: keras-tuner, terminaltables\n",
            "  Building wheel for keras-tuner (setup.py) ... \u001b[?25l\u001b[?25hdone\n",
            "  Created wheel for keras-tuner: filename=keras_tuner-1.0.2-cp37-none-any.whl size=78938 sha256=5d86cddcd5e5755c5102e6d4c4c82cd1efa8f67ed03fd88334a3ed528288ac0b\n",
            "  Stored in directory: /root/.cache/pip/wheels/bb/a1/8a/7c3de0efb3707a1701b36ebbfdbc4e67aedf6d4943a1f463d6\n",
            "  Building wheel for terminaltables (setup.py) ... \u001b[?25l\u001b[?25hdone\n",
            "  Created wheel for terminaltables: filename=terminaltables-3.1.0-cp37-none-any.whl size=15356 sha256=83fa406a1f895ee147c2f2fc004b19eb9849a56153815496fc19477bf1a7c579\n",
            "  Stored in directory: /root/.cache/pip/wheels/30/6b/50/6c75775b681fb36cdfac7f19799888ef9d8813aff9e379663e\n",
            "Successfully built keras-tuner terminaltables\n",
            "Installing collected packages: terminaltables, colorama, keras-tuner\n",
            "Successfully installed colorama-0.4.4 keras-tuner-1.0.2 terminaltables-3.1.0\n"
          ],
          "name": "stdout"
        }
      ]
    },
    {
      "cell_type": "code",
      "metadata": {
        "id": "5tWxtyFp-5rZ"
      },
      "source": [
        "#----------------------#"
      ],
      "execution_count": null,
      "outputs": []
    },
    {
      "cell_type": "code",
      "metadata": {
        "colab": {
          "base_uri": "https://localhost:8080/"
        },
        "id": "9xSsdUea-7k9",
        "outputId": "c9c234b6-ad0f-4507-c9a8-e9f044f2a79f"
      },
      "source": [
        "# Using images stored on Google Drive\n",
        "\n",
        "from google.colab import drive\n",
        "drive.mount('/content/drive')"
      ],
      "execution_count": 4,
      "outputs": [
        {
          "output_type": "stream",
          "text": [
            "Mounted at /content/drive\n"
          ],
          "name": "stdout"
        }
      ]
    },
    {
      "cell_type": "code",
      "metadata": {
        "id": "C0VMVEfOTd4W"
      },
      "source": [
        "#----------------------#"
      ],
      "execution_count": null,
      "outputs": []
    },
    {
      "cell_type": "code",
      "metadata": {
        "id": "m2LLmMb9Td8H"
      },
      "source": [
        "# Dataset generation (train, validation et test)\n",
        "\n",
        "# This function will create a train set, a validation set and a test set\n",
        "# with data augmentation and the preprocessing function of the model,\n",
        "# which will be used thanks to transfer learning.\n",
        "\n",
        "path_google_drive = \"/content/drive/MyDrive/Gaetan_Travail/ML/Formation_OC_IML/P6/Projet/Data/\"\n",
        "\n",
        "def dataset_for_keras_model(model_preprocessing, batch_size_int, img_size_int, nbr_class):\n",
        "\n",
        "  # Data augmentation:\n",
        "  # only for training images\n",
        "  datagen_train = tf.keras.preprocessing.image.ImageDataGenerator(\n",
        "      # rescale=1/255,  # normalization\n",
        "      rotation_range=20,\n",
        "      width_shift_range=0.2,\n",
        "      height_shift_range=0.2,\n",
        "      horizontal_flip=True,\n",
        "      validation_split=0,\n",
        "      preprocessing_function=model_preprocessing\n",
        "  )\n",
        "\n",
        "  test_datagen = tf.keras.preprocessing.image.ImageDataGenerator(\n",
        "      # rescale=1/255,  # normalization\n",
        "      validation_split=0,\n",
        "      preprocessing_function=model_preprocessing\n",
        "  )\n",
        "\n",
        "  # Train set:\n",
        "  if (nbr_class == 120):\n",
        "    path = path_google_drive + \"Images_split/train/\"\n",
        "  else:\n",
        "    path = path_google_drive + \"Images_few_\" + str(nbr_class) + \"/train/\"\n",
        "\n",
        "  x_train = datagen_train.flow_from_directory(\n",
        "      path,\n",
        "      target_size=(img_size_int, img_size_int), # resizing\n",
        "      batch_size=batch_size_int,\n",
        "      class_mode=\"categorical\",\n",
        "      shuffle=True,\n",
        "      seed=0,\n",
        "      subset='training'\n",
        "  )\n",
        "\n",
        "  # Validation set:\n",
        "  if (nbr_class == 120):\n",
        "    path = path_google_drive + \"Images_split/val/\"\n",
        "  else:\n",
        "    path = path_google_drive + \"Images_few_\" + str(nbr_class) + \"/val/\"  \n",
        "\n",
        "  x_val = test_datagen.flow_from_directory(\n",
        "      path,\n",
        "      batch_size=batch_size_int,\n",
        "      class_mode=\"categorical\",\n",
        "      target_size=(img_size_int, img_size_int), # resizing\n",
        "      seed=0,\n",
        "      subset='training'\n",
        "  )\n",
        "\n",
        "  # Test set:\n",
        "  if (nbr_class == 120):\n",
        "    path = path_google_drive + \"Images_split/test/\"\n",
        "  else:\n",
        "    path = path_google_drive + \"Images_few_\" + str(nbr_class) + \"/test/\"  \n",
        "\n",
        "  x_test = test_datagen.flow_from_directory(\n",
        "      path,\n",
        "      batch_size=batch_size_int,\n",
        "      class_mode=\"categorical\",\n",
        "      target_size=(img_size_int, img_size_int), # resizing\n",
        "      seed=0,\n",
        "      subset='training'\n",
        "  )\n",
        "\n",
        "  return x_train, x_val, x_test"
      ],
      "execution_count": 3,
      "outputs": []
    },
    {
      "cell_type": "code",
      "metadata": {
        "id": "-mxM85nR--bO"
      },
      "source": [
        "#----------------------#"
      ],
      "execution_count": null,
      "outputs": []
    },
    {
      "cell_type": "code",
      "metadata": {
        "id": "3GLC1nkvCvgD"
      },
      "source": [
        "# Transfer learning without the top layers"
      ],
      "execution_count": null,
      "outputs": []
    },
    {
      "cell_type": "code",
      "metadata": {
        "id": "ZeZAjIkH-m5O"
      },
      "source": [
        "# We will compare 5 models with the same kind of dataset used for our\n",
        "# CNN from scratch (i.e. 10 dog breeds)\n",
        "# These 5 models are:\n",
        "# - VGG16\n",
        "# - ResNet50\n",
        "# - InceptionV3\n",
        "# - EfficientNetB0\n",
        "# - Xception"
      ],
      "execution_count": null,
      "outputs": []
    },
    {
      "cell_type": "code",
      "metadata": {
        "id": "N7Ocumwo_vge"
      },
      "source": [
        "# VGG16\n",
        "\n",
        "base_model_vgg16 = keras.applications.vgg16.VGG16(\n",
        "  weights=\"imagenet\",\n",
        "  include_top=False\n",
        ")\n",
        "\n",
        "x = keras.layers.GlobalAveragePooling2D()(base_model_vgg16.output)\n",
        "\n",
        "output_ = keras.layers.Dense(10, activation=\"softmax\")(x)\n",
        "\n",
        "model_vgg16 = keras.Model(inputs=base_model_vgg16.input, outputs=output_)"
      ],
      "execution_count": null,
      "outputs": []
    },
    {
      "cell_type": "code",
      "metadata": {
        "id": "MofiLhAJ_xaV"
      },
      "source": [
        "# ResNet50\n",
        "\n",
        "base_model_resnet50 = keras.applications.resnet50.ResNet50(\n",
        "  weights=\"imagenet\",\n",
        "  include_top=False\n",
        ")\n",
        "\n",
        "x = keras.layers.GlobalAveragePooling2D()(base_model_resnet50.output)\n",
        "\n",
        "output_ = keras.layers.Dense(10, activation=\"softmax\")(x)\n",
        "\n",
        "model_resnet50 = keras.Model(inputs=base_model_resnet50.input, outputs=output_)"
      ],
      "execution_count": null,
      "outputs": []
    },
    {
      "cell_type": "code",
      "metadata": {
        "id": "Qg_puqrLDJIh"
      },
      "source": [
        "# InceptionV3\n",
        "\n",
        "base_model_inceptionv3 = keras.applications.inception_v3.InceptionV3(\n",
        "  weights=\"imagenet\",\n",
        "  include_top=False\n",
        ")\n",
        "\n",
        "x = keras.layers.GlobalAveragePooling2D()(base_model_inceptionv3.output)\n",
        "\n",
        "output_ = keras.layers.Dense(10, activation=\"softmax\")(x)\n",
        "\n",
        "model_inceptionv3 = keras.Model(inputs=base_model_inceptionv3.input, outputs=output_)"
      ],
      "execution_count": null,
      "outputs": []
    },
    {
      "cell_type": "code",
      "metadata": {
        "id": "kaNoEDpYDSr9"
      },
      "source": [
        "# EfficientNetB0\n",
        "\n",
        "base_model_efficientnet = keras.applications.efficientnet.EfficientNetB0(\n",
        "  weights=\"imagenet\",\n",
        "  include_top=False\n",
        ")\n",
        "\n",
        "x = keras.layers.GlobalAveragePooling2D()(base_model_efficientnet.output)\n",
        "\n",
        "output_ = keras.layers.Dense(10, activation=\"softmax\")(x)\n",
        "\n",
        "model_efficientnet = keras.Model(inputs=base_model_efficientnet.input, outputs=output_)"
      ],
      "execution_count": null,
      "outputs": []
    },
    {
      "cell_type": "code",
      "metadata": {
        "id": "qPeDwxwvDX_e"
      },
      "source": [
        "# Xception\n",
        "\n",
        "base_model_xception = keras.applications.xception.Xception(\n",
        "  weights=\"imagenet\",\n",
        "  include_top=False\n",
        ")\n",
        "\n",
        "x = keras.layers.GlobalAveragePooling2D()(base_model_xception.output)\n",
        "\n",
        "output_ = keras.layers.Dense(10, activation=\"softmax\")(x)\n",
        "\n",
        "model_xception = keras.Model(inputs=base_model_xception.input, outputs=output_)"
      ],
      "execution_count": null,
      "outputs": []
    },
    {
      "cell_type": "code",
      "metadata": {
        "id": "m4mhW-6-DwTe"
      },
      "source": [
        "#----------------------#"
      ],
      "execution_count": null,
      "outputs": []
    },
    {
      "cell_type": "code",
      "metadata": {
        "id": "XxCjakOrDwxv"
      },
      "source": [
        "# First part of the training\n",
        "# The first layers (from transfert learning) can't be trainable\n",
        "\n",
        "for layer in base_model_vgg16.layers:\n",
        "  layer.trainable = False\n",
        "\n",
        "for layer in base_model_resnet50.layers:\n",
        "  layer.trainable = False\n",
        "\n",
        "for layer in base_model_inceptionv3.layers:\n",
        "  layer.trainable = False\n",
        "\n",
        "for layer in base_model_efficientnet.layers:\n",
        "  layer.trainable = False\n",
        "\n",
        "for layer in base_model_xception.layers:\n",
        "  layer.trainable = False"
      ],
      "execution_count": null,
      "outputs": []
    },
    {
      "cell_type": "code",
      "metadata": {
        "id": "-XVorQDQD-7P"
      },
      "source": [
        "optimizer_ = keras.optimizers.Adam()\n",
        "\n",
        "model_vgg16.compile(\n",
        "    optimizer = optimizer_,\n",
        "    loss=\"categorical_crossentropy\",\n",
        "    metrics=[\"accuracy\"]\n",
        ")\n",
        "\n",
        "model_resnet50.compile(\n",
        "    optimizer = optimizer_,\n",
        "    loss=\"categorical_crossentropy\",\n",
        "    metrics=[\"accuracy\"]\n",
        ")\n",
        "\n",
        "model_inceptionv3.compile(\n",
        "    optimizer = optimizer_,\n",
        "    loss=\"categorical_crossentropy\",\n",
        "    metrics=[\"accuracy\"]\n",
        ")\n",
        "\n",
        "model_efficientnet.compile(\n",
        "    optimizer = optimizer_,\n",
        "    loss=\"categorical_crossentropy\",\n",
        "    metrics=[\"accuracy\"]\n",
        ")\n",
        "\n",
        "model_xception.compile(\n",
        "    optimizer = optimizer_,\n",
        "    loss=\"categorical_crossentropy\",\n",
        "    metrics=[\"accuracy\"]\n",
        ")"
      ],
      "execution_count": null,
      "outputs": []
    },
    {
      "cell_type": "code",
      "metadata": {
        "colab": {
          "base_uri": "https://localhost:8080/"
        },
        "id": "iNsXk45lELyO",
        "outputId": "1d1e7fff-7957-44fd-d64a-5be4e2c64f2b"
      },
      "source": [
        "# Dataset for 10 dog breeds\n",
        "x_train_vgg16, x_val_vgg16, x_test_vgg16 = dataset_for_keras_model(keras.applications.vgg16.preprocess_input, 10, 224, 10)\n",
        "\n",
        "history_vgg16 = model_vgg16.fit(\n",
        "    x_train_vgg16,\n",
        "    epochs=10,\n",
        "    batch_size=batch_size_,\n",
        "    validation_data=x_val_vgg16,\n",
        "    callbacks=[keras.callbacks.EarlyStopping(patience=2, restore_best_weights=True)]\n",
        ")"
      ],
      "execution_count": null,
      "outputs": [
        {
          "output_type": "stream",
          "text": [
            "Found 1025 images belonging to 10 classes.\n",
            "Found 338 images belonging to 10 classes.\n",
            "Found 350 images belonging to 10 classes.\n",
            "Epoch 1/10\n",
            "103/103 [==============================] - 21s 197ms/step - loss: 7.3430 - accuracy: 0.2178 - val_loss: 1.7963 - val_accuracy: 0.7012\n",
            "Epoch 2/10\n",
            "103/103 [==============================] - 20s 198ms/step - loss: 1.2718 - accuracy: 0.7039 - val_loss: 1.1852 - val_accuracy: 0.7899\n",
            "Epoch 3/10\n",
            "103/103 [==============================] - 20s 197ms/step - loss: 0.8252 - accuracy: 0.8025 - val_loss: 0.8314 - val_accuracy: 0.8432\n",
            "Epoch 4/10\n",
            "103/103 [==============================] - 20s 192ms/step - loss: 0.5544 - accuracy: 0.8687 - val_loss: 0.7395 - val_accuracy: 0.8609\n",
            "Epoch 5/10\n",
            "103/103 [==============================] - 20s 193ms/step - loss: 0.3890 - accuracy: 0.9038 - val_loss: 0.5916 - val_accuracy: 0.8846\n",
            "Epoch 6/10\n",
            "103/103 [==============================] - 20s 192ms/step - loss: 0.3630 - accuracy: 0.9088 - val_loss: 0.7227 - val_accuracy: 0.8728\n",
            "Epoch 7/10\n",
            "103/103 [==============================] - 20s 196ms/step - loss: 0.2255 - accuracy: 0.9407 - val_loss: 0.5137 - val_accuracy: 0.8876\n",
            "Epoch 8/10\n",
            "103/103 [==============================] - 20s 198ms/step - loss: 0.1782 - accuracy: 0.9442 - val_loss: 0.6476 - val_accuracy: 0.8698\n",
            "Epoch 9/10\n",
            "103/103 [==============================] - 20s 194ms/step - loss: 0.3097 - accuracy: 0.9204 - val_loss: 0.4484 - val_accuracy: 0.9024\n",
            "Epoch 10/10\n",
            "103/103 [==============================] - 20s 195ms/step - loss: 0.1661 - accuracy: 0.9448 - val_loss: 0.4820 - val_accuracy: 0.8964\n"
          ],
          "name": "stdout"
        }
      ]
    },
    {
      "cell_type": "code",
      "metadata": {
        "colab": {
          "base_uri": "https://localhost:8080/"
        },
        "id": "sDf2Gc-VENm1",
        "outputId": "187e5e59-f10d-481d-8984-2096a25637bb"
      },
      "source": [
        "# Dataset for 10 dog breeds\n",
        "x_train_resnet50, x_val_resnet50, x_test_resnet50 = dataset_for_keras_model(keras.applications.resnet50.preprocess_input, 10, 224, 10)\n",
        "\n",
        "history_resnet50 = model_resnet50.fit(\n",
        "    x_train_resnet50,\n",
        "    epochs=10,\n",
        "    batch_size=batch_size_,\n",
        "    validation_data=x_val_resnet50,\n",
        "    callbacks=[keras.callbacks.EarlyStopping(patience=2, restore_best_weights=True)]\n",
        ")"
      ],
      "execution_count": null,
      "outputs": [
        {
          "output_type": "stream",
          "text": [
            "Found 1025 images belonging to 10 classes.\n",
            "Found 338 images belonging to 10 classes.\n",
            "Found 350 images belonging to 10 classes.\n",
            "Epoch 1/10\n",
            "103/103 [==============================] - 24s 206ms/step - loss: 1.4528 - accuracy: 0.6316 - val_loss: 0.2283 - val_accuracy: 0.9320\n",
            "Epoch 2/10\n",
            "103/103 [==============================] - 20s 195ms/step - loss: 0.2009 - accuracy: 0.9350 - val_loss: 0.1287 - val_accuracy: 0.9615\n",
            "Epoch 3/10\n",
            "103/103 [==============================] - 20s 198ms/step - loss: 0.0561 - accuracy: 0.9828 - val_loss: 0.1300 - val_accuracy: 0.9527\n",
            "Epoch 4/10\n",
            "103/103 [==============================] - 20s 197ms/step - loss: 0.0591 - accuracy: 0.9800 - val_loss: 0.1384 - val_accuracy: 0.9556\n"
          ],
          "name": "stdout"
        }
      ]
    },
    {
      "cell_type": "code",
      "metadata": {
        "colab": {
          "base_uri": "https://localhost:8080/"
        },
        "id": "6vY_f5OlENwA",
        "outputId": "febe999f-bbf9-410b-f505-d8a7c27a6e07"
      },
      "source": [
        "# Dataset for 10 dog breeds\n",
        "x_train_inceptionv3, x_val_inceptionv3, x_test_inceptionv3 = dataset_for_keras_model(keras.applications.inception_v3.preprocess_input, 10, 299, 10)\n",
        "\n",
        "history_inceptionv3 = model_inceptionv3.fit(\n",
        "    x_train_inceptionv3,\n",
        "    epochs=10,\n",
        "    batch_size=batch_size_,\n",
        "    validation_data=x_val_inceptionv3,\n",
        "    callbacks=[keras.callbacks.EarlyStopping(patience=2, restore_best_weights=True)]\n",
        ")"
      ],
      "execution_count": null,
      "outputs": [
        {
          "output_type": "stream",
          "text": [
            "Found 1025 images belonging to 10 classes.\n",
            "Found 338 images belonging to 10 classes.\n",
            "Found 350 images belonging to 10 classes.\n",
            "Epoch 1/10\n",
            "103/103 [==============================] - 35s 299ms/step - loss: 1.0374 - accuracy: 0.7373 - val_loss: 0.0674 - val_accuracy: 0.9911\n",
            "Epoch 2/10\n",
            "103/103 [==============================] - 29s 277ms/step - loss: 0.1008 - accuracy: 0.9854 - val_loss: 0.0323 - val_accuracy: 0.9970\n",
            "Epoch 3/10\n",
            "103/103 [==============================] - 29s 277ms/step - loss: 0.0680 - accuracy: 0.9839 - val_loss: 0.0268 - val_accuracy: 0.9882\n",
            "Epoch 4/10\n",
            "103/103 [==============================] - 29s 280ms/step - loss: 0.0447 - accuracy: 0.9906 - val_loss: 0.0262 - val_accuracy: 0.9911\n",
            "Epoch 5/10\n",
            "103/103 [==============================] - 30s 290ms/step - loss: 0.0346 - accuracy: 0.9938 - val_loss: 0.0192 - val_accuracy: 0.9941\n",
            "Epoch 6/10\n",
            "103/103 [==============================] - 29s 279ms/step - loss: 0.0274 - accuracy: 0.9945 - val_loss: 0.0220 - val_accuracy: 0.9941\n",
            "Epoch 7/10\n",
            "103/103 [==============================] - 29s 281ms/step - loss: 0.0200 - accuracy: 0.9936 - val_loss: 0.0195 - val_accuracy: 0.9911\n"
          ],
          "name": "stdout"
        }
      ]
    },
    {
      "cell_type": "code",
      "metadata": {
        "colab": {
          "base_uri": "https://localhost:8080/"
        },
        "id": "6UqLVamkEN7d",
        "outputId": "5c3c8e06-d5e9-41eb-cb29-163fedffb95f"
      },
      "source": [
        "# Dataset for 10 dog breeds\n",
        "x_train_efficientnet, x_val_efficientnet, x_test_efficientnet = dataset_for_keras_model(keras.applications.efficientnet.preprocess_input, 10, 299, 10)\n",
        "\n",
        "history_efficientnet = model_efficientnet.fit(\n",
        "    x_train_efficientnet,\n",
        "    epochs=10,\n",
        "    batch_size=batch_size_,\n",
        "    validation_data=x_val_efficientnet,\n",
        "    callbacks=[keras.callbacks.EarlyStopping(patience=2, restore_best_weights=True)]\n",
        ")"
      ],
      "execution_count": null,
      "outputs": [
        {
          "output_type": "stream",
          "text": [
            "Found 1025 images belonging to 10 classes.\n",
            "Found 338 images belonging to 10 classes.\n",
            "Found 350 images belonging to 10 classes.\n",
            "Epoch 1/10\n",
            "103/103 [==============================] - 36s 291ms/step - loss: 0.6795 - accuracy: 0.7839 - val_loss: 0.0578 - val_accuracy: 0.9882\n",
            "Epoch 2/10\n",
            "103/103 [==============================] - 28s 275ms/step - loss: 0.0630 - accuracy: 0.9829 - val_loss: 0.0546 - val_accuracy: 0.9911\n",
            "Epoch 3/10\n",
            "103/103 [==============================] - 28s 270ms/step - loss: 0.0486 - accuracy: 0.9934 - val_loss: 0.0467 - val_accuracy: 0.9911\n",
            "Epoch 4/10\n",
            "103/103 [==============================] - 28s 272ms/step - loss: 0.0381 - accuracy: 0.9932 - val_loss: 0.0606 - val_accuracy: 0.9793\n",
            "Epoch 5/10\n",
            "103/103 [==============================] - 29s 279ms/step - loss: 0.0293 - accuracy: 0.9942 - val_loss: 0.0537 - val_accuracy: 0.9793\n"
          ],
          "name": "stdout"
        }
      ]
    },
    {
      "cell_type": "code",
      "metadata": {
        "colab": {
          "base_uri": "https://localhost:8080/"
        },
        "id": "ZN7ZB7gmEOFg",
        "outputId": "a8b16210-81d6-4320-c8f7-0444916f3414"
      },
      "source": [
        "# Dataset for 10 dog breeds\n",
        "x_train_xception, x_val_xception, x_test_xception = dataset_for_keras_model(keras.applications.xception.preprocess_input, 10, 299, 10)\n",
        "\n",
        "history_xception = model_xception.fit(\n",
        "    x_train_xception,\n",
        "    epochs=10,\n",
        "    batch_size=10,\n",
        "    validation_data=x_test_xception,\n",
        "    callbacks=[keras.callbacks.EarlyStopping(patience=2, restore_best_weights=True)]\n",
        ")"
      ],
      "execution_count": null,
      "outputs": [
        {
          "output_type": "stream",
          "text": [
            "Found 1025 images belonging to 10 classes.\n",
            "Found 338 images belonging to 10 classes.\n",
            "Found 350 images belonging to 10 classes.\n",
            "Epoch 1/10\n",
            "103/103 [==============================] - 35s 300ms/step - loss: 0.5768 - accuracy: 0.8373 - val_loss: 0.0230 - val_accuracy: 0.9914\n",
            "Epoch 2/10\n",
            "103/103 [==============================] - 30s 287ms/step - loss: 0.0369 - accuracy: 0.9868 - val_loss: 0.0148 - val_accuracy: 0.9943\n",
            "Epoch 3/10\n",
            "103/103 [==============================] - 30s 292ms/step - loss: 0.0166 - accuracy: 0.9974 - val_loss: 0.0146 - val_accuracy: 1.0000\n",
            "Epoch 4/10\n",
            "103/103 [==============================] - 30s 292ms/step - loss: 0.0119 - accuracy: 0.9973 - val_loss: 0.0159 - val_accuracy: 0.9943\n",
            "Epoch 5/10\n",
            "103/103 [==============================] - 29s 283ms/step - loss: 0.0064 - accuracy: 0.9993 - val_loss: 0.0142 - val_accuracy: 0.9971\n",
            "Epoch 6/10\n",
            "103/103 [==============================] - 29s 282ms/step - loss: 0.0189 - accuracy: 0.9959 - val_loss: 0.0130 - val_accuracy: 0.9943\n",
            "Epoch 7/10\n",
            "103/103 [==============================] - 30s 289ms/step - loss: 0.0063 - accuracy: 0.9987 - val_loss: 0.0115 - val_accuracy: 0.9971\n",
            "Epoch 8/10\n",
            "103/103 [==============================] - 29s 285ms/step - loss: 0.0161 - accuracy: 0.9947 - val_loss: 0.0127 - val_accuracy: 0.9971\n",
            "Epoch 9/10\n",
            "103/103 [==============================] - 29s 279ms/step - loss: 0.0142 - accuracy: 0.9968 - val_loss: 0.0134 - val_accuracy: 0.9971\n"
          ],
          "name": "stdout"
        }
      ]
    },
    {
      "cell_type": "code",
      "metadata": {
        "id": "z61LAGzqsH3c"
      },
      "source": [
        "#----------------------#"
      ],
      "execution_count": null,
      "outputs": []
    },
    {
      "cell_type": "code",
      "metadata": {
        "id": "3Zvq84yxsIQd"
      },
      "source": [
        "# Second part of the training\n",
        "# The first layers (from transfert learning) will be trained\n",
        "\n",
        "# We will make this fine tuning, only for VGG16 and ResNet50.\n",
        "# If we do it to the others models, it will destroy the accuracy,\n",
        "# which is already very high.\n",
        "\n",
        "for layer in base_model_vgg16.layers:\n",
        "  layer.trainable = True\n",
        "\n",
        "for layer in base_model_resnet50.layers:\n",
        "  layer.trainable = True"
      ],
      "execution_count": null,
      "outputs": []
    },
    {
      "cell_type": "code",
      "metadata": {
        "id": "duFx974DsOnr"
      },
      "source": [
        "optimizer_ = keras.optimizers.Adam(learning_rate=1e-6)\n",
        "\n",
        "model_vgg16.compile(\n",
        "    optimizer = optimizer_,\n",
        "    loss=\"categorical_crossentropy\",\n",
        "    metrics=[\"accuracy\"]\n",
        ")\n",
        "\n",
        "model_resnet50.compile(\n",
        "    optimizer = optimizer_,\n",
        "    loss=\"categorical_crossentropy\",\n",
        "    metrics=[\"accuracy\"]\n",
        ")"
      ],
      "execution_count": null,
      "outputs": []
    },
    {
      "cell_type": "code",
      "metadata": {
        "colab": {
          "base_uri": "https://localhost:8080/"
        },
        "id": "pVfIBwjgsT3B",
        "outputId": "ef375239-7b59-4610-b18e-cb948d7be1db"
      },
      "source": [
        "history_vgg16 = model_vgg16.fit(\n",
        "    x_train_vgg16,\n",
        "    epochs=100,\n",
        "    batch_size=batch_size_,\n",
        "    validation_data=x_val_vgg16,\n",
        "    callbacks=[keras.callbacks.EarlyStopping(patience=3, restore_best_weights=True)]\n",
        ")"
      ],
      "execution_count": null,
      "outputs": [
        {
          "output_type": "stream",
          "text": [
            "Epoch 1/100\n",
            "103/103 [==============================] - 25s 227ms/step - loss: 0.1206 - accuracy: 0.9615 - val_loss: 0.4507 - val_accuracy: 0.9053\n",
            "Epoch 2/100\n",
            "103/103 [==============================] - 22s 215ms/step - loss: 0.0736 - accuracy: 0.9787 - val_loss: 0.4422 - val_accuracy: 0.9083\n",
            "Epoch 3/100\n",
            "103/103 [==============================] - 22s 214ms/step - loss: 0.0797 - accuracy: 0.9687 - val_loss: 0.4265 - val_accuracy: 0.9024\n",
            "Epoch 4/100\n",
            "103/103 [==============================] - 22s 215ms/step - loss: 0.0428 - accuracy: 0.9899 - val_loss: 0.4308 - val_accuracy: 0.9053\n",
            "Epoch 5/100\n",
            "103/103 [==============================] - 23s 221ms/step - loss: 0.0617 - accuracy: 0.9857 - val_loss: 0.4238 - val_accuracy: 0.9053\n",
            "Epoch 6/100\n",
            "103/103 [==============================] - 22s 218ms/step - loss: 0.0345 - accuracy: 0.9887 - val_loss: 0.4431 - val_accuracy: 0.9083\n",
            "Epoch 7/100\n",
            "103/103 [==============================] - 22s 215ms/step - loss: 0.0476 - accuracy: 0.9831 - val_loss: 0.4256 - val_accuracy: 0.9112\n",
            "Epoch 8/100\n",
            "103/103 [==============================] - 22s 213ms/step - loss: 0.0396 - accuracy: 0.9869 - val_loss: 0.3946 - val_accuracy: 0.9142\n",
            "Epoch 9/100\n",
            "103/103 [==============================] - 22s 215ms/step - loss: 0.0277 - accuracy: 0.9929 - val_loss: 0.4357 - val_accuracy: 0.9083\n",
            "Epoch 10/100\n",
            "103/103 [==============================] - 22s 217ms/step - loss: 0.0403 - accuracy: 0.9857 - val_loss: 0.4281 - val_accuracy: 0.9024\n",
            "Epoch 11/100\n",
            "103/103 [==============================] - 22s 217ms/step - loss: 0.0423 - accuracy: 0.9861 - val_loss: 0.4378 - val_accuracy: 0.9112\n"
          ],
          "name": "stdout"
        }
      ]
    },
    {
      "cell_type": "code",
      "metadata": {
        "colab": {
          "base_uri": "https://localhost:8080/"
        },
        "id": "_1FON6Cbsddw",
        "outputId": "38561520-840a-43d3-9fed-d829feded39a"
      },
      "source": [
        "history_resnet50 = model_resnet50.fit(\n",
        "    x_train_resnet50,\n",
        "    epochs=100,\n",
        "    batch_size=batch_size_,\n",
        "    validation_data=x_val_resnet50,\n",
        "    callbacks=[keras.callbacks.EarlyStopping(patience=3, restore_best_weights=True)]\n",
        ")"
      ],
      "execution_count": null,
      "outputs": [
        {
          "output_type": "stream",
          "text": [
            "Epoch 1/100\n",
            "103/103 [==============================] - 29s 225ms/step - loss: 0.4167 - accuracy: 0.8630 - val_loss: 0.1436 - val_accuracy: 0.9675\n",
            "Epoch 2/100\n",
            "103/103 [==============================] - 22s 214ms/step - loss: 0.2026 - accuracy: 0.9301 - val_loss: 0.1600 - val_accuracy: 0.9615\n",
            "Epoch 3/100\n",
            "103/103 [==============================] - 22s 216ms/step - loss: 0.2087 - accuracy: 0.9277 - val_loss: 0.1655 - val_accuracy: 0.9615\n",
            "Epoch 4/100\n",
            "103/103 [==============================] - 22s 215ms/step - loss: 0.1707 - accuracy: 0.9448 - val_loss: 0.1647 - val_accuracy: 0.9615\n"
          ],
          "name": "stdout"
        }
      ]
    },
    {
      "cell_type": "code",
      "metadata": {
        "id": "pKGkDqxqsskP"
      },
      "source": [
        "#----------------------#"
      ],
      "execution_count": null,
      "outputs": []
    },
    {
      "cell_type": "code",
      "metadata": {
        "id": "KSB5BqPF_wAt"
      },
      "source": [
        "# Now we can compare the models thanks to three metrics:\n",
        "# - the test loss\n",
        "# - the test accuracy\n",
        "# - the time took for the prediction"
      ],
      "execution_count": null,
      "outputs": []
    },
    {
      "cell_type": "code",
      "metadata": {
        "id": "v_EFFWlfstl6"
      },
      "source": [
        "list_model_name = []\n",
        "list_test_loss = []\n",
        "list_test_acc = []\n",
        "list_time_pred = []"
      ],
      "execution_count": null,
      "outputs": []
    },
    {
      "cell_type": "code",
      "metadata": {
        "colab": {
          "base_uri": "https://localhost:8080/"
        },
        "id": "5Er7gSRos5ks",
        "outputId": "5c9827b9-263e-4929-9e5f-89383d59fe02"
      },
      "source": [
        "list_model_name.append(\"vgg16\")\n",
        "\n",
        "start = time.time()\n",
        "loss, acc = model_vgg16.evaluate(x_test_vgg16, verbose=1)\n",
        "stop = time.time()\n",
        "\n",
        "list_test_loss.append(loss)\n",
        "list_test_acc.append(acc)\n",
        "list_time_pred.append(stop - start)"
      ],
      "execution_count": null,
      "outputs": [
        {
          "output_type": "stream",
          "text": [
            "35/35 [==============================] - 3s 71ms/step - loss: 0.5767 - accuracy: 0.8800\n"
          ],
          "name": "stdout"
        }
      ]
    },
    {
      "cell_type": "code",
      "metadata": {
        "colab": {
          "base_uri": "https://localhost:8080/"
        },
        "id": "AKldyoOL0CqK",
        "outputId": "c443bc7e-b680-4628-c3b1-2a95b861390e"
      },
      "source": [
        "list_model_name.append(\"resnet50\")\n",
        "\n",
        "start = time.time()\n",
        "loss, acc = model_resnet50.evaluate(x_test_resnet50, verbose=1)\n",
        "stop = time.time()\n",
        "\n",
        "list_test_loss.append(loss)\n",
        "list_test_acc.append(acc)\n",
        "list_time_pred.append(stop - start)"
      ],
      "execution_count": null,
      "outputs": [
        {
          "output_type": "stream",
          "text": [
            "35/35 [==============================] - 2s 69ms/step - loss: 0.1999 - accuracy: 0.9314\n"
          ],
          "name": "stdout"
        }
      ]
    },
    {
      "cell_type": "code",
      "metadata": {
        "colab": {
          "base_uri": "https://localhost:8080/"
        },
        "id": "ksx-bgaa0Cx5",
        "outputId": "9bde176b-c228-4b38-e307-01b8946ebb10"
      },
      "source": [
        "list_model_name.append(\"inceptionv3\")\n",
        "\n",
        "start = time.time()\n",
        "loss, acc = model_inceptionv3.evaluate(x_test_inceptionv3, verbose=1)\n",
        "stop = time.time()\n",
        "\n",
        "list_test_loss.append(loss)\n",
        "list_test_acc.append(acc)\n",
        "list_time_pred.append(stop - start)"
      ],
      "execution_count": null,
      "outputs": [
        {
          "output_type": "stream",
          "text": [
            "35/35 [==============================] - 3s 78ms/step - loss: 0.0283 - accuracy: 0.9914\n"
          ],
          "name": "stdout"
        }
      ]
    },
    {
      "cell_type": "code",
      "metadata": {
        "colab": {
          "base_uri": "https://localhost:8080/"
        },
        "id": "1T-ST8Ns0C5C",
        "outputId": "4d9659d4-b401-4443-e830-3ba503a972bb"
      },
      "source": [
        "list_model_name.append(\"efficientnet\")\n",
        "\n",
        "start = time.time()\n",
        "loss, acc = model_efficientnet.evaluate(x_test_efficientnet, verbose=1)\n",
        "stop = time.time()\n",
        "\n",
        "list_test_loss.append(loss)\n",
        "list_test_acc.append(acc)\n",
        "list_time_pred.append(stop - start)"
      ],
      "execution_count": null,
      "outputs": [
        {
          "output_type": "stream",
          "text": [
            "35/35 [==============================] - 3s 73ms/step - loss: 0.0675 - accuracy: 0.9829\n"
          ],
          "name": "stdout"
        }
      ]
    },
    {
      "cell_type": "code",
      "metadata": {
        "colab": {
          "base_uri": "https://localhost:8080/"
        },
        "id": "W6n1v3uC0DA9",
        "outputId": "be8146ac-ed47-4a15-9221-a1db9fc6574e"
      },
      "source": [
        "list_model_name.append(\"xception\")\n",
        "\n",
        "start = time.time()\n",
        "loss, acc = model_xception.evaluate(x_test_xception, verbose=1)\n",
        "stop = time.time()\n",
        "\n",
        "list_test_loss.append(loss)\n",
        "list_test_acc.append(acc)\n",
        "list_time_pred.append(stop - start)"
      ],
      "execution_count": null,
      "outputs": [
        {
          "output_type": "stream",
          "text": [
            "35/35 [==============================] - 3s 83ms/step - loss: 0.0115 - accuracy: 0.9971\n"
          ],
          "name": "stdout"
        }
      ]
    },
    {
      "cell_type": "code",
      "metadata": {
        "id": "0Y-3J-_20vpa"
      },
      "source": [
        "#----------------------#"
      ],
      "execution_count": null,
      "outputs": []
    },
    {
      "cell_type": "code",
      "metadata": {
        "colab": {
          "base_uri": "https://localhost:8080/",
          "height": 499
        },
        "id": "AILEWDRg0wPP",
        "outputId": "f664070f-fd17-40d5-a406-5f7ccd0c5362"
      },
      "source": [
        "# Visualization\n",
        "\n",
        "f, axes = plt.subplots(1, 3, figsize=(20, 8))\n",
        "\n",
        "# Test loss\n",
        "axes[0].barh(list_model_name, list_test_loss, color=plt.cm.Paired(np.arange(len(list_test_loss))))\n",
        "axes[0].set_title('Test loss')\n",
        "axes[0].invert_yaxis()\n",
        "\n",
        "# Test accuracy\n",
        "axes[1].barh(list_model_name, list_test_acc, color=plt.cm.Paired(np.arange(len(list_test_acc))))\n",
        "axes[1].set_title('Test accuracy')\n",
        "axes[1].set_yticklabels([])\n",
        "axes[1].invert_yaxis()\n",
        "\n",
        "# Time (s) to predict per Model\n",
        "axes[2].barh(list_model_name, list_time_pred, color=plt.cm.Paired(np.arange(len(list_time_pred))))\n",
        "axes[2].set_title('Time (s) to predict per Model')\n",
        "axes[2].set_yticklabels([])\n",
        "axes[2].invert_yaxis()"
      ],
      "execution_count": null,
      "outputs": [
        {
          "output_type": "display_data",
          "data": {
            "image/png": "[encoded data removed]",
            "text/plain": [
              "<Figure size 1440x576 with 3 Axes>"
            ]
          },
          "metadata": {
            "tags": [],
            "needs_background": "light"
          }
        }
      ]
    },
    {
      "cell_type": "code",
      "metadata": {
        "id": "r9TQ3BPNFbop"
      },
      "source": [
        "'''\n",
        "Despite its time prediction, Xception is the model\n",
        "with the best loss and accuracy scores.\n",
        "\n",
        "We will use this model in order to predict 50 dog breeds.\n",
        "Then, the model will try to predict the whole dataset (120 dog breeds).\n",
        "'''"
      ],
      "execution_count": null,
      "outputs": []
    },
    {
      "cell_type": "code",
      "metadata": {
        "id": "F_-Jf448_CA7"
      },
      "source": [
        "#----------------------#\n",
        "#----------------------#"
      ],
      "execution_count": null,
      "outputs": []
    },
    {
      "cell_type": "code",
      "metadata": {
        "id": "e0rUFRR7_BMW"
      },
      "source": [
        "# We will now use the Xception model with 50 dog breeds."
      ],
      "execution_count": null,
      "outputs": []
    },
    {
      "cell_type": "code",
      "metadata": {
        "id": "bV5cdyDx1ct7"
      },
      "source": [
        "# In order to increase the regularization,\n",
        "# we will add one Dropout layer\n",
        "\n",
        "base_model_xception = keras.applications.xception.Xception(\n",
        "  weights=\"imagenet\",\n",
        "  include_top=False\n",
        ")\n",
        "\n",
        "for layer in base_model_xception.layers:\n",
        "  layer.trainable = False"
      ],
      "execution_count": null,
      "outputs": []
    },
    {
      "cell_type": "code",
      "metadata": {
        "id": "TUnwe-ErH1GJ"
      },
      "source": [
        "def build_model_xception_50_dog_breeds(hp):\n",
        "  x = keras.layers.GlobalAveragePooling2D()(base_model_xception.output)\n",
        "\n",
        "  x = keras.layers.Dropout(\n",
        "        rate=hp.Choice(\n",
        "                  'rate1_value',\n",
        "                  values=[0.3, 0.4, 0.5],\n",
        "                  default=0.4\n",
        "        )\n",
        "      )(x)\n",
        "\n",
        "  output_ = keras.layers.Dense(50, activation=\"softmax\")(x)\n",
        "\n",
        "  model_xception = keras.Model(inputs=base_model_xception.input, outputs=output_)\n",
        "\n",
        "  model_xception.compile(\n",
        "    optimizer = keras.optimizers.Adam(),\n",
        "    loss=\"categorical_crossentropy\",\n",
        "    metrics=[\"accuracy\"]\n",
        "  )\n",
        "\n",
        "  return model_xception"
      ],
      "execution_count": null,
      "outputs": []
    },
    {
      "cell_type": "code",
      "metadata": {
        "id": "UIuh-p3qIcmV"
      },
      "source": [
        "tuner_bayesian = kt.BayesianOptimization(\n",
        "    build_model_xception_50_dog_breeds,\n",
        "    objective='val_accuracy',\n",
        "    max_trials=3,\n",
        "    executions_per_trial=2,\n",
        "    seed=0,\n",
        "    overwrite=True\n",
        ")"
      ],
      "execution_count": null,
      "outputs": []
    },
    {
      "cell_type": "code",
      "metadata": {
        "colab": {
          "base_uri": "https://localhost:8080/"
        },
        "id": "QLrNlX31Il7P",
        "outputId": "6ff03e67-c170-4dab-f068-d8f06b3491df"
      },
      "source": [
        "# Dataset for 50 dog breeds.\n",
        "x_train_xception, x_val_xception, x_test_xception = dataset_for_keras_model(keras.applications.xception.preprocess_input, 10, 299, 50)\n",
        "\n",
        "tuner_bayesian.search(\n",
        "    x_train_xception,\n",
        "    batch_size=10,\n",
        "    validation_data=x_val_xception,\n",
        "    epochs=1000,\n",
        "    callbacks=[keras.callbacks.EarlyStopping(patience=3, restore_best_weights=True)]\n",
        ")"
      ],
      "execution_count": null,
      "outputs": [
        {
          "output_type": "stream",
          "text": [
            "Trial 3 Complete [00h 29m 03s]\n",
            "val_accuracy: 0.9714285731315613\n",
            "\n",
            "Best val_accuracy So Far: 0.9744897782802582\n",
            "Total elapsed time: 01h 44m 31s\n",
            "INFO:tensorflow:Oracle triggered exit\n"
          ],
          "name": "stdout"
        }
      ]
    },
    {
      "cell_type": "code",
      "metadata": {
        "colab": {
          "base_uri": "https://localhost:8080/"
        },
        "id": "R4aaZh_wYbeO",
        "outputId": "d38043c8-88d8-4b24-99de-c46d05fc6bbb"
      },
      "source": [
        "best_hyperparameters = tuner_bayesian.get_best_hyperparameters()[0]\n",
        "print(best_hyperparameters.values)"
      ],
      "execution_count": null,
      "outputs": [
        {
          "output_type": "stream",
          "text": [
            "{'rate1_value': 0.5}\n"
          ],
          "name": "stdout"
        }
      ]
    },
    {
      "cell_type": "code",
      "metadata": {
        "id": "xrXMGS-gF8r_"
      },
      "source": [
        "model_xception = tuner_bayesian.hypermodel.build(best_hyperparameters)"
      ],
      "execution_count": null,
      "outputs": []
    },
    {
      "cell_type": "code",
      "metadata": {
        "id": "dvyjORf7I3i9"
      },
      "source": [
        "#----------------------#"
      ],
      "execution_count": null,
      "outputs": []
    },
    {
      "cell_type": "code",
      "metadata": {
        "colab": {
          "base_uri": "https://localhost:8080/"
        },
        "id": "tfHhx_WhGbGC",
        "outputId": "b5cddd4c-84d0-40a5-8235-8f7cc17d0b22"
      },
      "source": [
        "history_xception = model_xception.fit(\n",
        "    x_train_xception,\n",
        "    epochs=1000,\n",
        "    batch_size=10,\n",
        "    validation_data=x_val_xception,\n",
        "    callbacks=[keras.callbacks.EarlyStopping(patience=5, restore_best_weights=True)]\n",
        ")"
      ],
      "execution_count": null,
      "outputs": [
        {
          "output_type": "stream",
          "text": [
            "Epoch 1/1000\n",
            "505/505 [==============================] - 4034s 8s/step - loss: 1.5562 - accuracy: 0.7058 - val_loss: 0.1580 - val_accuracy: 0.9653\n",
            "Epoch 2/1000\n",
            "505/505 [==============================] - 120s 238ms/step - loss: 0.1920 - accuracy: 0.9544 - val_loss: 0.1174 - val_accuracy: 0.9714\n",
            "Epoch 3/1000\n",
            "505/505 [==============================] - 119s 237ms/step - loss: 0.1452 - accuracy: 0.9578 - val_loss: 0.1178 - val_accuracy: 0.9571\n",
            "Epoch 4/1000\n",
            "505/505 [==============================] - 119s 235ms/step - loss: 0.1157 - accuracy: 0.9672 - val_loss: 0.1171 - val_accuracy: 0.9694\n",
            "Epoch 5/1000\n",
            "505/505 [==============================] - 119s 236ms/step - loss: 0.1221 - accuracy: 0.9611 - val_loss: 0.1221 - val_accuracy: 0.9612\n",
            "Epoch 6/1000\n",
            "505/505 [==============================] - 118s 233ms/step - loss: 0.0812 - accuracy: 0.9781 - val_loss: 0.1129 - val_accuracy: 0.9653\n",
            "Epoch 7/1000\n",
            "505/505 [==============================] - 118s 233ms/step - loss: 0.0799 - accuracy: 0.9779 - val_loss: 0.1170 - val_accuracy: 0.9633\n",
            "Epoch 8/1000\n",
            "505/505 [==============================] - 117s 232ms/step - loss: 0.0741 - accuracy: 0.9791 - val_loss: 0.0991 - val_accuracy: 0.9714\n",
            "Epoch 9/1000\n",
            "505/505 [==============================] - 117s 232ms/step - loss: 0.0785 - accuracy: 0.9767 - val_loss: 0.1084 - val_accuracy: 0.9714\n",
            "Epoch 10/1000\n",
            "505/505 [==============================] - 126s 250ms/step - loss: 0.0764 - accuracy: 0.9761 - val_loss: 0.1020 - val_accuracy: 0.9776\n",
            "Epoch 11/1000\n",
            "505/505 [==============================] - 126s 250ms/step - loss: 0.0708 - accuracy: 0.9763 - val_loss: 0.1188 - val_accuracy: 0.9653\n",
            "Epoch 12/1000\n",
            "505/505 [==============================] - 126s 250ms/step - loss: 0.0752 - accuracy: 0.9756 - val_loss: 0.1216 - val_accuracy: 0.9571\n",
            "Epoch 13/1000\n",
            "505/505 [==============================] - 125s 248ms/step - loss: 0.0664 - accuracy: 0.9789 - val_loss: 0.1388 - val_accuracy: 0.9592\n"
          ],
          "name": "stdout"
        }
      ]
    },
    {
      "cell_type": "code",
      "metadata": {
        "colab": {
          "base_uri": "https://localhost:8080/"
        },
        "id": "h4Xev9lBblsw",
        "outputId": "ab422285-dcd6-4abc-ab0a-f8e53669531a"
      },
      "source": [
        "model_xception.evaluate(x_test_xception, verbose=1)"
      ],
      "execution_count": null,
      "outputs": [
        {
          "output_type": "stream",
          "text": [
            "50/50 [==============================] - 346s 7s/step - loss: 0.1267 - accuracy: 0.9560\n"
          ],
          "name": "stdout"
        },
        {
          "output_type": "execute_result",
          "data": {
            "text/plain": [
              "[0.12668199837207794, 0.9559999704360962]"
            ]
          },
          "metadata": {
            "tags": []
          },
          "execution_count": 10
        }
      ]
    },
    {
      "cell_type": "code",
      "metadata": {
        "id": "1LCvHYpFdN05"
      },
      "source": [
        "# Saving this model\n",
        "model_xception.save(\"/content/drive/MyDrive/Gaetan_Travail/ML/Formation_OC_IML/P6/Projet/transfert_learning_xception_50_19042021.h5\")"
      ],
      "execution_count": null,
      "outputs": []
    },
    {
      "cell_type": "code",
      "metadata": {
        "colab": {
          "base_uri": "https://localhost:8080/"
        },
        "id": "9aCIk6UfNIlO",
        "outputId": "e1065b8e-5fd4-4a79-a7c4-0e13d02c72be"
      },
      "source": [
        "for layer in base_model_xception.layers:\n",
        "  layer.trainable = True\n",
        "\n",
        "model_xception.compile(\n",
        "    optimizer = keras.optimizers.Adam(1e-6),\n",
        "    loss=\"categorical_crossentropy\",\n",
        "    metrics=[\"accuracy\"]\n",
        ")\n",
        "\n",
        "history_xception = model_xception.fit(\n",
        "    x_train_xception,\n",
        "    epochs=1000,\n",
        "    batch_size=10,\n",
        "    validation_data=x_val_xception,\n",
        "    callbacks=[keras.callbacks.EarlyStopping(patience=5, restore_best_weights=True)]\n",
        ")"
      ],
      "execution_count": null,
      "outputs": [
        {
          "output_type": "stream",
          "text": [
            "Epoch 1/1000\n",
            "505/505 [==============================] - 151s 291ms/step - loss: 0.2837 - accuracy: 0.9140 - val_loss: 0.1583 - val_accuracy: 0.9510\n",
            "Epoch 2/1000\n",
            "505/505 [==============================] - 144s 286ms/step - loss: 0.2363 - accuracy: 0.9250 - val_loss: 0.1547 - val_accuracy: 0.9531\n",
            "Epoch 3/1000\n",
            "505/505 [==============================] - 143s 284ms/step - loss: 0.2282 - accuracy: 0.9266 - val_loss: 0.1488 - val_accuracy: 0.9531\n",
            "Epoch 4/1000\n",
            "505/505 [==============================] - 143s 284ms/step - loss: 0.1891 - accuracy: 0.9442 - val_loss: 0.1472 - val_accuracy: 0.9571\n",
            "Epoch 5/1000\n",
            "505/505 [==============================] - 143s 284ms/step - loss: 0.1954 - accuracy: 0.9362 - val_loss: 0.1475 - val_accuracy: 0.9571\n",
            "Epoch 6/1000\n",
            "505/505 [==============================] - 144s 284ms/step - loss: 0.1723 - accuracy: 0.9423 - val_loss: 0.1427 - val_accuracy: 0.9612\n",
            "Epoch 7/1000\n",
            "505/505 [==============================] - 143s 284ms/step - loss: 0.1822 - accuracy: 0.9400 - val_loss: 0.1433 - val_accuracy: 0.9633\n",
            "Epoch 8/1000\n",
            "505/505 [==============================] - 143s 284ms/step - loss: 0.1662 - accuracy: 0.9459 - val_loss: 0.1400 - val_accuracy: 0.9612\n",
            "Epoch 9/1000\n",
            "505/505 [==============================] - 143s 283ms/step - loss: 0.1460 - accuracy: 0.9532 - val_loss: 0.1388 - val_accuracy: 0.9612\n",
            "Epoch 10/1000\n",
            "505/505 [==============================] - 143s 284ms/step - loss: 0.1603 - accuracy: 0.9491 - val_loss: 0.1386 - val_accuracy: 0.9592\n",
            "Epoch 11/1000\n",
            "505/505 [==============================] - 143s 283ms/step - loss: 0.1393 - accuracy: 0.9526 - val_loss: 0.1388 - val_accuracy: 0.9633\n",
            "Epoch 12/1000\n",
            "505/505 [==============================] - 143s 282ms/step - loss: 0.1302 - accuracy: 0.9593 - val_loss: 0.1385 - val_accuracy: 0.9571\n",
            "Epoch 13/1000\n",
            "505/505 [==============================] - 143s 283ms/step - loss: 0.1357 - accuracy: 0.9546 - val_loss: 0.1362 - val_accuracy: 0.9571\n",
            "Epoch 14/1000\n",
            "505/505 [==============================] - 143s 283ms/step - loss: 0.1082 - accuracy: 0.9655 - val_loss: 0.1362 - val_accuracy: 0.9571\n",
            "Epoch 15/1000\n",
            "505/505 [==============================] - 143s 284ms/step - loss: 0.1328 - accuracy: 0.9573 - val_loss: 0.1347 - val_accuracy: 0.9612\n",
            "Epoch 16/1000\n",
            "505/505 [==============================] - 144s 284ms/step - loss: 0.1381 - accuracy: 0.9547 - val_loss: 0.1337 - val_accuracy: 0.9571\n",
            "Epoch 17/1000\n",
            "505/505 [==============================] - 147s 291ms/step - loss: 0.1253 - accuracy: 0.9587 - val_loss: 0.1357 - val_accuracy: 0.9612\n",
            "Epoch 18/1000\n",
            "505/505 [==============================] - 150s 296ms/step - loss: 0.1090 - accuracy: 0.9638 - val_loss: 0.1317 - val_accuracy: 0.9633\n",
            "Epoch 19/1000\n",
            "505/505 [==============================] - 151s 298ms/step - loss: 0.1197 - accuracy: 0.9617 - val_loss: 0.1300 - val_accuracy: 0.9673\n",
            "Epoch 20/1000\n",
            "505/505 [==============================] - 149s 296ms/step - loss: 0.1151 - accuracy: 0.9675 - val_loss: 0.1304 - val_accuracy: 0.9633\n",
            "Epoch 21/1000\n",
            "505/505 [==============================] - 149s 296ms/step - loss: 0.1240 - accuracy: 0.9597 - val_loss: 0.1323 - val_accuracy: 0.9633\n",
            "Epoch 22/1000\n",
            "505/505 [==============================] - 141s 280ms/step - loss: 0.1074 - accuracy: 0.9674 - val_loss: 0.1321 - val_accuracy: 0.9633\n",
            "Epoch 23/1000\n",
            "505/505 [==============================] - 142s 282ms/step - loss: 0.1056 - accuracy: 0.9662 - val_loss: 0.1323 - val_accuracy: 0.9612\n",
            "Epoch 24/1000\n",
            "505/505 [==============================] - 143s 282ms/step - loss: 0.1011 - accuracy: 0.9651 - val_loss: 0.1312 - val_accuracy: 0.9673\n"
          ],
          "name": "stdout"
        }
      ]
    },
    {
      "cell_type": "code",
      "metadata": {
        "colab": {
          "base_uri": "https://localhost:8080/"
        },
        "id": "xQsLrtQ1NL_V",
        "outputId": "8be3a29b-18e7-4942-d97e-d414a7f39b43"
      },
      "source": [
        "model_xception.evaluate(x_test_xception, verbose=1)"
      ],
      "execution_count": null,
      "outputs": [
        {
          "output_type": "stream",
          "text": [
            "50/50 [==============================] - 3s 65ms/step - loss: 0.1480 - accuracy: 0.9400\n"
          ],
          "name": "stdout"
        },
        {
          "output_type": "execute_result",
          "data": {
            "text/plain": [
              "[0.14799629151821136, 0.9399999976158142]"
            ]
          },
          "metadata": {
            "tags": []
          },
          "execution_count": 13
        }
      ]
    },
    {
      "cell_type": "code",
      "metadata": {
        "id": "pLsOLGVlhjvy"
      },
      "source": [
        "'''\n",
        "The fine tuning is, once again, reducing the accuracy.\n",
        "We will keep the model without fine tuning.\n",
        "\n",
        "Our model based on Xception can reach 95,60% of accuracy with 50 dog breeds.\n",
        "'''"
      ],
      "execution_count": null,
      "outputs": []
    },
    {
      "cell_type": "code",
      "metadata": {
        "id": "hFSMAAbgheE-"
      },
      "source": [
        "#----------------------#"
      ],
      "execution_count": null,
      "outputs": []
    },
    {
      "cell_type": "code",
      "metadata": {
        "id": "BOPSjN8thgzD"
      },
      "source": [
        "# Confusion Matrix"
      ],
      "execution_count": null,
      "outputs": []
    },
    {
      "cell_type": "code",
      "metadata": {
        "id": "0bdIpaIJKkfq"
      },
      "source": [
        "list_label = []\n",
        "y_true_label = []\n",
        "list_images_test_url = []\n",
        "\n",
        "path = \"/content/drive/MyDrive/Gaetan_Travail/ML/Formation_OC_IML/P6/Projet/Data/Images_few_50/test/\"\n",
        "list_repository = os.listdir(path)\n",
        "\n",
        "\n",
        "list_label = list_repository\n",
        "\n",
        "for i in range(len(list_repository)):  \n",
        "  list_files = os.listdir(path + list_repository[i])\n",
        "  for j in range(len(list_files)):\n",
        "    y_true_label.append(list_repository[i])\n",
        "    list_images_test_url.append(path + list_repository[i] + \"/\" + list_files[j])"
      ],
      "execution_count": null,
      "outputs": []
    },
    {
      "cell_type": "code",
      "metadata": {
        "id": "T6bq7myJVTb8"
      },
      "source": [
        "le_50_dog_breeds = LabelEncoder()\n",
        "le_50_dog_breeds.fit(list_label)\n",
        "\n",
        "y_true = le_50_dog_breeds.transform(y_true_label)"
      ],
      "execution_count": null,
      "outputs": []
    },
    {
      "cell_type": "code",
      "metadata": {
        "id": "ajjPclSjLjS_"
      },
      "source": [
        "y_pred = []\n",
        "\n",
        "for i in range(len(list_images_test_url)):\n",
        "  img = keras.preprocessing.image.load_img(list_images_test_url[i], target_size=(299, 299))\n",
        "  img = keras.preprocessing.image.img_to_array(img)\n",
        "\n",
        "  # reshape into a single sample with 3 channels\n",
        "  img = np.expand_dims(img, axis=0)\n",
        "  # img = img.reshape(1, 299, 299, 3)\n",
        "  \n",
        "  img = keras.applications.xception.preprocess_input(img)\n",
        "    \n",
        "  y_pred.append(np.argmax(model_xception.predict(img).flatten()))"
      ],
      "execution_count": null,
      "outputs": []
    },
    {
      "cell_type": "code",
      "metadata": {
        "colab": {
          "base_uri": "https://localhost:8080/",
          "height": 666
        },
        "id": "Ec-Jeuzqrqk1",
        "outputId": "95a65d49-cf5f-4286-d3fe-1bac235a92d9"
      },
      "source": [
        "# Confusion matrix\n",
        "result = confusion_matrix(y_true, y_pred)\n",
        "\n",
        "# Normalizing the confusion matrix\n",
        "result = result / result.astype(np.float).sum(axis=1)\n",
        "\n",
        "plt.style.use(['default'])\n",
        "\n",
        "fig, ax = plt.subplots(figsize=(8,8))\n",
        "\n",
        "c = ax.imshow(result, cmap='hot')\n",
        "ax.set_title('Dog breeds prediction')\n",
        "ax.set_xlabel('Dog breed (True)')\n",
        "ax.set_ylabel('Dog breed predicted')\n",
        "\n",
        "# set the limits of the plot to the limits of the data\n",
        "fig.colorbar(c, ax=ax)\n",
        "\n",
        "plt.show()"
      ],
      "execution_count": null,
      "outputs": [
        {
          "output_type": "display_data",
          "data": {
            "image/png": "[encoded data removed]",
            "text/plain": [
              "<Figure size 800x800 with 2 Axes>"
            ]
          },
          "metadata": {
            "tags": []
          }
        }
      ]
    },
    {
      "cell_type": "code",
      "metadata": {
        "id": "n6b9jwFs1cyp"
      },
      "source": [
        "#----------------------#\n",
        "#----------------------#"
      ],
      "execution_count": null,
      "outputs": []
    },
    {
      "cell_type": "code",
      "metadata": {
        "id": "v6WLm2kd1dda"
      },
      "source": [
        "# 120 classes with the best model : xception"
      ],
      "execution_count": null,
      "outputs": []
    },
    {
      "cell_type": "code",
      "metadata": {
        "id": "KKnqcMB7rJqh"
      },
      "source": [
        "# Because of the images number, we are not able to train multiple CNN.\n",
        "# We will use the same strategy as previously (50 dog breeds),\n",
        "# i.e. the xception model with a dropout layer and a fully connected layer."
      ],
      "execution_count": null,
      "outputs": []
    },
    {
      "cell_type": "code",
      "metadata": {
        "id": "ifHh3-ZY1fRa"
      },
      "source": [
        "base_model_xception = keras.applications.xception.Xception(\n",
        "  weights=\"imagenet\",\n",
        "  include_top=False\n",
        ")\n",
        "\n",
        "x = keras.layers.GlobalAveragePooling2D()(base_model_xception.output)\n",
        "\n",
        "x = keras.layers.Dropout(0.5)(x)\n",
        "\n",
        "output_ = keras.layers.Dense(120, activation=\"softmax\")(x)\n",
        "\n",
        "model_xception_full = keras.Model(inputs=base_model_xception.input, outputs=output_)"
      ],
      "execution_count": null,
      "outputs": []
    },
    {
      "cell_type": "code",
      "metadata": {
        "id": "l9qktvTq16aW"
      },
      "source": [
        "for layer in base_model_xception.layers:\n",
        "  layer.trainable = False\n",
        "\n",
        "model_xception_full.compile(\n",
        "    optimizer = keras.optimizers.Adam(),\n",
        "    loss=\"categorical_crossentropy\",\n",
        "    metrics=[\"accuracy\"]\n",
        ")"
      ],
      "execution_count": null,
      "outputs": []
    },
    {
      "cell_type": "code",
      "metadata": {
        "colab": {
          "base_uri": "https://localhost:8080/"
        },
        "id": "ongS3veorpak",
        "outputId": "eebdf3a6-6950-47be-a1bc-f6b757495872"
      },
      "source": [
        "# Dataset for 120 classes\n",
        "x_train_xception_full, x_val_xception_full, x_test_xception_full = dataset_for_keras_model(keras.applications.xception.preprocess_input, 10, 299, 120)\n",
        "\n",
        "history_xception_full = model_xception_full.fit(\n",
        "    x_train_xception_full,\n",
        "    epochs=1000,\n",
        "    batch_size=10,\n",
        "    validation_data=x_val_xception_full,\n",
        "    callbacks=[keras.callbacks.EarlyStopping(patience=5, restore_best_weights=True)]\n",
        ")\n",
        "\n",
        "# Saving this model\n",
        "model_xception_full.save(\"/content/drive/MyDrive/Gaetan_Travail/ML/Formation_OC_IML/P6/Projet/transfert_learning_xception_full_19042021.h5\")\n",
        "\n",
        "model_xception_full.evaluate(x_test_xception_full, verbose=1)"
      ],
      "execution_count": null,
      "outputs": [
        {
          "output_type": "stream",
          "text": [
            "Found 12307 images belonging to 120 classes.\n",
            "Found 4072 images belonging to 120 classes.\n",
            "Found 4200 images belonging to 120 classes.\n",
            "Epoch 1/1000\n",
            "1231/1231 [==============================] - 11295s 9s/step - loss: 1.6762 - accuracy: 0.6517 - val_loss: 0.3241 - val_accuracy: 0.9023\n",
            "Epoch 2/1000\n",
            "1231/1231 [==============================] - 296s 241ms/step - loss: 0.3672 - accuracy: 0.8868 - val_loss: 0.3145 - val_accuracy: 0.8991\n",
            "Epoch 3/1000\n",
            "1231/1231 [==============================] - 293s 238ms/step - loss: 0.3320 - accuracy: 0.8898 - val_loss: 0.3048 - val_accuracy: 0.9013\n",
            "Epoch 4/1000\n",
            "1231/1231 [==============================] - 293s 238ms/step - loss: 0.3031 - accuracy: 0.8975 - val_loss: 0.3138 - val_accuracy: 0.8964\n",
            "Epoch 5/1000\n",
            "1231/1231 [==============================] - 292s 238ms/step - loss: 0.2706 - accuracy: 0.9084 - val_loss: 0.3122 - val_accuracy: 0.8996\n",
            "Epoch 6/1000\n",
            "1231/1231 [==============================] - 293s 238ms/step - loss: 0.2741 - accuracy: 0.9072 - val_loss: 0.3137 - val_accuracy: 0.9032\n",
            "Epoch 7/1000\n",
            "1231/1231 [==============================] - 292s 237ms/step - loss: 0.2477 - accuracy: 0.9147 - val_loss: 0.3083 - val_accuracy: 0.9023\n",
            "Epoch 8/1000\n",
            "1231/1231 [==============================] - 292s 238ms/step - loss: 0.2308 - accuracy: 0.9220 - val_loss: 0.3277 - val_accuracy: 0.8991\n",
            "420/420 [==============================] - 2701s 6s/step - loss: 0.3385 - accuracy: 0.8931\n"
          ],
          "name": "stdout"
        },
        {
          "output_type": "execute_result",
          "data": {
            "text/plain": [
              "[0.33845940232276917, 0.8930952548980713]"
            ]
          },
          "metadata": {
            "tags": []
          },
          "execution_count": 16
        }
      ]
    },
    {
      "cell_type": "code",
      "metadata": {
        "id": "MXaJ8AvmY_NT"
      },
      "source": [
        "'''\n",
        "Our model based on Xception can reach 89.31% of accuracy with 120 dog breeds.\n",
        "'''"
      ],
      "execution_count": null,
      "outputs": []
    },
    {
      "cell_type": "code",
      "metadata": {
        "id": "fGT_ll-ch0Vb"
      },
      "source": [
        "#----------------------#"
      ],
      "execution_count": null,
      "outputs": []
    },
    {
      "cell_type": "code",
      "metadata": {
        "id": "oN2UlThqh1sI"
      },
      "source": [
        "# Confusion Matrix"
      ],
      "execution_count": null,
      "outputs": []
    },
    {
      "cell_type": "code",
      "metadata": {
        "id": "liOKleHuh6Nl"
      },
      "source": [
        "list_label = []\n",
        "y_true_label = []\n",
        "list_images_test_url = []\n",
        "\n",
        "path = \"/content/drive/MyDrive/Gaetan_Travail/ML/Formation_OC_IML/P6/Projet/Data/Images_split/test/\"\n",
        "list_repository = os.listdir(path)\n",
        "\n",
        "\n",
        "list_label = list_repository\n",
        "\n",
        "for i in range(len(list_repository)):  \n",
        "  list_files = os.listdir(path + list_repository[i])\n",
        "  for j in range(len(list_files)):\n",
        "    y_true_label.append(list_repository[i])\n",
        "    list_images_test_url.append(path + list_repository[i] + \"/\" + list_files[j])"
      ],
      "execution_count": 9,
      "outputs": []
    },
    {
      "cell_type": "code",
      "metadata": {
        "id": "7-b_g7VHh99y"
      },
      "source": [
        "le_120_dog_breeds = LabelEncoder()\n",
        "le_120_dog_breeds.fit(list_label)\n",
        "\n",
        "y_true = le_120_dog_breeds.transform(y_true_label)"
      ],
      "execution_count": 10,
      "outputs": []
    },
    {
      "cell_type": "code",
      "metadata": {
        "id": "VhIXWIAoiBxY"
      },
      "source": [
        "y_pred = []\n",
        "\n",
        "for i in range(len(list_images_test_url)):\n",
        "  img = keras.preprocessing.image.load_img(list_images_test_url[i], target_size=(299, 299))\n",
        "  img = keras.preprocessing.image.img_to_array(img)\n",
        "\n",
        "  # reshape into a single sample with 3 channels\n",
        "  img = np.expand_dims(img, axis=0)\n",
        "  # img = img.reshape(1, 299, 299, 3)\n",
        "  \n",
        "  img = keras.applications.xception.preprocess_input(img)\n",
        "    \n",
        "  y_pred.append(np.argmax(model_xception_full.predict(img).flatten()))"
      ],
      "execution_count": 11,
      "outputs": []
    },
    {
      "cell_type": "code",
      "metadata": {
        "colab": {
          "base_uri": "https://localhost:8080/",
          "height": 666
        },
        "id": "OSsmdFopiNBe",
        "outputId": "088b39f9-033f-482f-da08-0f6988978991"
      },
      "source": [
        "# Confusion matrix\n",
        "result = confusion_matrix(y_true, y_pred)\n",
        "\n",
        "# Normalizing the confusion matrix\n",
        "result = result / result.astype(np.float).sum(axis=1)\n",
        "\n",
        "plt.style.use(['default'])\n",
        "\n",
        "fig, ax = plt.subplots(figsize=(8,8))\n",
        "\n",
        "c = ax.imshow(result, cmap='hot')\n",
        "ax.set_title('Dog breeds prediction')\n",
        "ax.set_xlabel('Dog breed (True)')\n",
        "ax.set_ylabel('Dog breed predicted')\n",
        "\n",
        "# set the limits of the plot to the limits of the data\n",
        "fig.colorbar(c, ax=ax)\n",
        "\n",
        "plt.show()"
      ],
      "execution_count": 12,
      "outputs": [
        {
          "output_type": "display_data",
          "data": {
            "image/png": "[encoded data removed]",
            "text/plain": [
              "<Figure size 800x800 with 2 Axes>"
            ]
          },
          "metadata": {
            "tags": []
          }
        }
      ]
    },
    {
      "cell_type": "code",
      "metadata": {
        "id": "_iyVKVdd1Sl9"
      },
      "source": [
        "from sklearn.metrics import classification_report"
      ],
      "execution_count": null,
      "outputs": []
    },
    {
      "cell_type": "code",
      "metadata": {
        "colab": {
          "base_uri": "https://localhost:8080/"
        },
        "id": "iCTG03iu_rLR",
        "outputId": "50b1c157-48b7-46ed-a382-50384461d147"
      },
      "source": [
        "print(classification_report(y_true, y_pred, target_names=list_label))"
      ],
      "execution_count": null,
      "outputs": [
        {
          "output_type": "stream",
          "text": [
            "                                precision    recall  f1-score   support\n",
            "\n",
            "American_Staffordshire_terrier       1.00      0.93      0.97        30\n",
            "                   Appenzeller       1.00      0.94      0.97        49\n",
            "                 Affenpinscher       0.97      1.00      0.99        35\n",
            "            Australian_terrier       0.90      0.88      0.89        41\n",
            "                       Basenji       0.61      0.68      0.64        34\n",
            "                      Airedale       0.81      0.71      0.76        31\n",
            "           African_hunting_dog       0.66      1.00      0.79        40\n",
            "                  Afghan_hound       0.95      0.91      0.93        43\n",
            "                        Basset       0.84      0.89      0.86        35\n",
            "                        Beagle       0.71      0.87      0.78        39\n",
            "          Bernese_mountain_dog       1.00      1.00      1.00        37\n",
            "            Bedlington_terrier       0.93      0.96      0.95        45\n",
            "       Black-and-tan_coonhound       0.94      0.91      0.92        33\n",
            "              Blenheim_spaniel       1.00      0.97      0.99        39\n",
            "                   Boston_bull       0.93      1.00      0.96        38\n",
            "                Border_terrier       0.94      0.94      0.94        35\n",
            "          Bouvier_des_Flandres       0.74      0.97      0.84        30\n",
            "                        Borzoi       0.94      0.97      0.96        35\n",
            "                 Border_collie       1.00      0.97      0.98        31\n",
            "                      Bluetick       0.90      1.00      0.95        37\n",
            "                         Boxer       0.82      0.90      0.86        30\n",
            "                    Bloodhound       1.00      0.90      0.95        31\n",
            "                        Briard       0.94      0.94      0.94        32\n",
            "             Brabancon_griffon       0.93      0.84      0.88        31\n",
            "              Brittany_spaniel       0.94      0.94      0.94        31\n",
            "                          Chow       0.97      0.90      0.93        31\n",
            "                       Clumber       0.92      0.88      0.90        40\n",
            "                         Cairn       0.93      0.90      0.92        31\n",
            "      Chesapeake_Bay_retriever       0.89      0.91      0.90        34\n",
            "                     Chihuahua       0.87      0.87      0.87        31\n",
            "                      Cardigan       0.95      1.00      0.98        40\n",
            "                  Bull_mastiff       0.94      0.97      0.95        30\n",
            "                        Collie       0.94      0.91      0.92        33\n",
            "                Cocker_spaniel       0.85      0.53      0.65        32\n",
            "                Dandie_Dinmont       1.00      0.94      0.97        31\n",
            "              English_foxhound       0.97      0.92      0.94        36\n",
            "                English_setter       0.97      0.97      0.97        30\n",
            "        Curly-coated_retriever       0.96      0.75      0.84        32\n",
            "                         Dingo       0.86      1.00      0.92        30\n",
            "              English_springer       0.66      0.84      0.74        32\n",
            "                         Dhole       0.91      0.94      0.93        33\n",
            "                      Doberman       0.89      0.94      0.91        33\n",
            "                   EntleBucher       0.84      0.88      0.86        41\n",
            "                    Eskimo_dog       0.62      0.70      0.66        30\n",
            "         Flat-coated_retriever       0.97      0.94      0.95        31\n",
            "                French_bulldog       0.91      0.97      0.94        33\n",
            "   German_short-haired_pointer       0.91      0.94      0.92        31\n",
            "               German_shepherd       0.97      0.97      0.97        31\n",
            "                 Gordon_setter       0.81      0.78      0.79        32\n",
            "                Great_Pyrenees       0.88      0.93      0.90        30\n",
            "    Greater_Swiss_Mountain_dog       0.94      0.97      0.95        32\n",
            "                  Ibizan_hound       1.00      0.97      0.98        32\n",
            "                    Great_Dane       0.84      0.93      0.88        44\n",
            "                   Groenendael       0.85      0.80      0.82        35\n",
            "              Golden_retriever       0.97      0.97      0.97        30\n",
            "               Giant_schnauzer       0.95      0.97      0.96        39\n",
            "                 Irish_terrier       1.00      0.97      0.98        31\n",
            "                  Irish_setter       0.87      0.97      0.92        35\n",
            "             Italian_greyhound       0.94      1.00      0.97        30\n",
            "                      Komondor       0.81      0.96      0.88        45\n",
            "                      Keeshond       0.79      0.92      0.85        37\n",
            "              Japanese_spaniel       0.94      0.92      0.93        37\n",
            "           Irish_water_spaniel       1.00      0.97      0.98        33\n",
            "               Irish_wolfhound       0.70      0.88      0.78        32\n",
            "                        Kelpie       0.97      0.95      0.96        37\n",
            "            Kerry_blue_terrier       0.97      0.94      0.95        32\n",
            "                        Kuvasz       0.90      0.93      0.92        30\n",
            "            Labrador_retriever       0.89      0.89      0.89        35\n",
            "                      Leonberg       0.79      0.82      0.80        40\n",
            "                      Malamute       0.98      0.98      0.98        42\n",
            "                   Maltese_dog       0.71      0.76      0.73        38\n",
            "            Miniature_pinscher       0.81      0.92      0.86        37\n",
            "              Lakeland_terrier       0.94      0.97      0.95        30\n",
            "              Mexican_hairless       0.88      0.90      0.89        51\n",
            "                         Lhasa       1.00      0.97      0.98        31\n",
            "                      Malinois       0.94      0.84      0.89        38\n",
            "              Miniature_poodle       0.67      0.52      0.58        31\n",
            "           Miniature_schnauzer       0.82      0.84      0.83        32\n",
            "               Norfolk_terrier       0.86      0.82      0.84        39\n",
            "                  Newfoundland       1.00      0.83      0.91        35\n",
            "                      Pekinese       0.97      0.95      0.96        40\n",
            "            Norwegian_elkhound       0.97      0.84      0.90        37\n",
            "                      Papillon       0.97      0.91      0.94        35\n",
            "          Old_English_sheepdog       0.97      0.94      0.95        31\n",
            "               Norwich_terrier       0.98      1.00      0.99        40\n",
            "                    Otterhound       0.93      0.81      0.86        31\n",
            "                      Pembroke       0.86      0.97      0.91        37\n",
            "                    Pomeranian       0.96      0.96      0.96        45\n",
            "                       Redbone       0.98      1.00      0.99        40\n",
            "                           Pug       0.96      0.77      0.86        31\n",
            "             Shetland_sheepdog       0.86      0.86      0.86        35\n",
            "              Sealyham_terrier       0.90      0.90      0.90        31\n",
            "            Scottish_deerhound       0.94      1.00      0.97        34\n",
            "                    Schipperke       0.95      0.95      0.95        40\n",
            "                    Rottweiler       0.98      1.00      0.99        45\n",
            "                Scotch_terrier       0.97      0.94      0.95        32\n",
            "           Rhodesian_ridgeback       0.89      1.00      0.94        33\n",
            "                       Samoyed       0.95      0.83      0.89        47\n",
            "                 Saint_Bernard       0.93      0.98      0.95        41\n",
            "                        Saluki       0.84      0.97      0.90        32\n",
            "                Siberian_husky       0.86      0.82      0.84        44\n",
            "                      Shih-Tzu       0.85      0.59      0.70        39\n",
            "               Tibetan_mastiff       0.96      0.63      0.76        38\n",
            "               Tibetan_terrier       0.81      0.91      0.85        32\n",
            "   Soft-coated_wheaten_terrier       0.67      0.65      0.66        31\n",
            "            Standard_schnauzer       0.86      0.94      0.90        33\n",
            "     Staffordshire_bullterrier       0.78      0.81      0.79        31\n",
            "               Standard_poodle       1.00      1.00      1.00        31\n",
            "                 Silky_terrier       0.87      0.87      0.87        31\n",
            "                Sussex_spaniel       0.95      0.83      0.89        42\n",
            "                    Toy_poodle       0.67      0.71      0.69        31\n",
            "                   Toy_terrier       0.93      0.80      0.86        35\n",
            "                        Vizsla       0.86      0.94      0.90        32\n",
            "                  Walker_hound       0.92      0.34      0.50        32\n",
            "                    Weimaraner       0.97      1.00      0.98        32\n",
            "        Welsh_springer_spaniel       1.00      0.93      0.97        30\n",
            "       Wire-haired_fox_terrier       0.90      1.00      0.95        35\n",
            "   West_Highland_white_terrier       0.94      0.79      0.86        38\n",
            "                       Whippet       0.92      0.72      0.81        32\n",
            "             Yorkshire_terrier       0.80      0.82      0.81        34\n",
            "\n",
            "                      accuracy                           0.89      4200\n",
            "                     macro avg       0.90      0.89      0.89      4200\n",
            "                  weighted avg       0.90      0.89      0.89      4200\n",
            "\n"
          ],
          "name": "stdout"
        }
      ]
    }
  ]
}